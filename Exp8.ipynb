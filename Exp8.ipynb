{
 "cells": [
  {
   "cell_type": "code",
   "execution_count": 21,
   "id": "cb9684ce",
   "metadata": {},
   "outputs": [],
   "source": [
    "from sklearn.metrics import precision_score,recall_score,confusion_matrix,accuracy_score\n",
    "from sklearn import datasets\n",
    "from sklearn.model_selection import train_test_split\n",
    "from sklearn.naive_bayes import GaussianNB"
   ]
  },
  {
   "cell_type": "code",
   "execution_count": 22,
   "id": "44d6beb6",
   "metadata": {},
   "outputs": [],
   "source": [
    "iris=datasets.load_iris()\n",
    "al=[]\n",
    "X=iris.data\n",
    "y=iris.target"
   ]
  },
  {
   "cell_type": "code",
   "execution_count": 23,
   "id": "632c8d9a",
   "metadata": {},
   "outputs": [],
   "source": [
    "X_train,X_test,y_train,y_test=train_test_split(X,y,test_size=0.2,random_state=0)"
   ]
  },
  {
   "cell_type": "code",
   "execution_count": 24,
   "id": "654b7965",
   "metadata": {},
   "outputs": [],
   "source": [
    "classifier=GaussianNB()\n",
    "classifier.fit(X_train,y_train)\n",
    "y_pred=classifier.predict(X_test)"
   ]
  },
  {
   "cell_type": "code",
   "execution_count": 25,
   "id": "10859ed4",
   "metadata": {},
   "outputs": [
    {
     "name": "stdout",
     "output_type": "stream",
     "text": [
      "Accuracy: 96.66666666666667\n",
      "Confusion matrix:\n",
      " [[11  0  0]\n",
      " [ 0 13  0]\n",
      " [ 0  1  5]]\n",
      "Precision: 97.61904761904762\n",
      "Recall: 94.44444444444446\n",
      "FOR PREDICTION\n",
      "Enter the sepal length: 1\n",
      "Enter the sepal width: 2\n",
      "Enter the petal length: 3\n",
      "Enter the petal width: 1\n",
      "[1]\n",
      "The predicted folwer is Versicolor\n"
     ]
    }
   ],
   "source": [
    "ac=accuracy_score(y_test,y_pred)*100\n",
    "cm=confusion_matrix(y_test,y_pred)\n",
    "print(\"Accuracy:\",ac)\n",
    "print(\"Confusion matrix:\\n\",cm)\n",
    "precision=precision_score(y_test,y_pred,average='macro')*100\n",
    "print(\"Precision:\",precision)\n",
    "recall=recall_score(y_test,y_pred,average='macro')*100\n",
    "print(\"Recall:\",recall)\n",
    "print(\"FOR PREDICTION\")\n",
    "al.append(float(input(\"Enter the sepal length: \")))\n",
    "al.append(float(input(\"Enter the sepal width: \")))\n",
    "al.append(float(input(\"Enter the petal length: \")))\n",
    "al.append(float(input(\"Enter the petal width: \")))\n",
    "AL=[al]\n",
    "y1_pred=classifier.predict(AL)\n",
    "print(y1_pred)\n",
    "if y1_pred[0]==0:\n",
    "    print(\"The predicted folwer is Setosa\")\n",
    "elif y1_pred[0]==1:\n",
    "    print(\"The predicted folwer is Versicolor\")\n",
    "else:\n",
    "    print(\"The predicted folwer is Virginica\")"
   ]
  },
  {
   "cell_type": "code",
   "execution_count": null,
   "id": "67f33f5f",
   "metadata": {},
   "outputs": [],
   "source": []
  }
 ],
 "metadata": {
  "kernelspec": {
   "display_name": "Python 3 (ipykernel)",
   "language": "python",
   "name": "python3"
  },
  "language_info": {
   "codemirror_mode": {
    "name": "ipython",
    "version": 3
   },
   "file_extension": ".py",
   "mimetype": "text/x-python",
   "name": "python",
   "nbconvert_exporter": "python",
   "pygments_lexer": "ipython3",
   "version": "3.9.12"
  }
 },
 "nbformat": 4,
 "nbformat_minor": 5
}
